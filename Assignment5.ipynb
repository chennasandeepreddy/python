{
  "nbformat": 4,
  "nbformat_minor": 0,
  "metadata": {
    "colab": {
      "name": "Assignment5.ipynb",
      "provenance": [],
      "authorship_tag": "ABX9TyN759PokX8o9Wvd7GllpzOg",
      "include_colab_link": true
    },
    "kernelspec": {
      "name": "python3",
      "display_name": "Python 3"
    }
  },
  "cells": [
    {
      "cell_type": "markdown",
      "metadata": {
        "id": "view-in-github",
        "colab_type": "text"
      },
      "source": [
        "<a href=\"https://colab.research.google.com/github/chennasandeepreddy/python/blob/master/Assignment5.ipynb\" target=\"_parent\"><img src=\"https://colab.research.google.com/assets/colab-badge.svg\" alt=\"Open In Colab\"/></a>"
      ]
    },
    {
      "cell_type": "markdown",
      "metadata": {
        "id": "q_TLApTKNjY_",
        "colab_type": "text"
      },
      "source": [
        "Write a python program to find the area of circle using math function."
      ]
    },
    {
      "cell_type": "code",
      "metadata": {
        "id": "YdV-E4KQNqNx",
        "colab_type": "code",
        "colab": {
          "base_uri": "https://localhost:8080/",
          "height": 51
        },
        "outputId": "5de4fe0d-4505-4c96-c3dd-05c1f8dc52ff"
      },
      "source": [
        "import math\n",
        "r=float(input ()) \n",
        "area=3.14*pow(r, 2) \n",
        "print (area)"
      ],
      "execution_count": 1,
      "outputs": [
        {
          "output_type": "stream",
          "text": [
            "4\n",
            "50.24\n"
          ],
          "name": "stdout"
        }
      ]
    },
    {
      "cell_type": "markdown",
      "metadata": {
        "id": "aNrQGG0lObEH",
        "colab_type": "text"
      },
      "source": [
        " Write a program to find the area of regular polygon using math function."
      ]
    },
    {
      "cell_type": "markdown",
      "metadata": {
        "id": "oiAyZEBelfWN",
        "colab_type": "text"
      },
      "source": [
        ""
      ]
    },
    {
      "cell_type": "code",
      "metadata": {
        "id": "5GUVro-tOn3t",
        "colab_type": "code",
        "colab": {
          "base_uri": "https://localhost:8080/",
          "height": 68
        },
        "outputId": "07135836-1c7d-4d92-b062-8153945bf391"
      },
      "source": [
        "from math import tan\n",
        "n=int(input (\"no of sides is\") ) \n",
        "s=int(input ()) \n",
        "area=((n*s) /(4*tan(3.14/n) ) ) \n",
        "print(area)"
      ],
      "execution_count": 12,
      "outputs": [
        {
          "output_type": "stream",
          "text": [
            "no of sides is3\n",
            "5\n",
            "2.1677187462070617\n"
          ],
          "name": "stdout"
        }
      ]
    },
    {
      "cell_type": "markdown",
      "metadata": {
        "id": "d7F3jGFrRdew",
        "colab_type": "text"
      },
      "source": [
        " Write a program to find area of segment of  a circle using math function."
      ]
    },
    {
      "cell_type": "code",
      "metadata": {
        "id": "srfc_ia7Rp-O",
        "colab_type": "code",
        "colab": {}
      },
      "source": [
        "from math import sin, pow\n",
        "pi=3.14\n",
        "def area_of_segment(radius, angle):\n",
        " area_of_sector=pi*pow(r, 2)*(angle/60)\n",
        " area_of_triangle=1/2*pow (r, 2)*sin((angle*pi) /180)\n",
        "return area_of_sector-area_of_triangle\n",
        "radius=float (input ()) \n",
        "angle=int(input (\"angle is\")\n",
        "print(\"area of minor segment is\",area_of_segment(radius,angle) ) \n",
        "print (\"Major segment area is\",area_of_segment(radius, 360-angele))"
      ],
      "execution_count": null,
      "outputs": []
    },
    {
      "cell_type": "markdown",
      "metadata": {
        "id": "mvtBjyHzbsEg",
        "colab_type": "text"
      },
      "source": [
        " Write a program to shuffle list l1=[100, 1,2,3,30,40,\"hai\", 'hello']"
      ]
    },
    {
      "cell_type": "code",
      "metadata": {
        "id": "n7U2cuzscJxl",
        "colab_type": "code",
        "colab": {
          "base_uri": "https://localhost:8080/",
          "height": 54
        },
        "outputId": "b09efcb7-9df5-45cc-9595-9a9a4fd154d4"
      },
      "source": [
        "import random\n",
        "List=[100,1,2,3,30,40,\"hai\",\"hello\"];\n",
        "random.shuffle(List)\n",
        "print (List)"
      ],
      "execution_count": 68,
      "outputs": [
        {
          "output_type": "stream",
          "text": [
            "['hello', 3, 1, 40, 100, 'hai', 30, 2]\n"
          ],
          "name": "stdout"
        }
      ]
    },
    {
      "cell_type": "markdown",
      "metadata": {
        "id": "FkkPCdQBfEe3",
        "colab_type": "text"
      },
      "source": [
        " Write a program to generate random numbers between 110000 and difference between them is 50."
      ]
    },
    {
      "cell_type": "code",
      "metadata": {
        "id": "QQzWthRSffTG",
        "colab_type": "code",
        "colab": {
          "base_uri": "https://localhost:8080/",
          "height": 54
        },
        "outputId": "13a264fb-b61f-4740-a45d-6753ab39eca8"
      },
      "source": [
        "import random\n",
        "print('the random number with difference 50 is', random.randrange(0,110000,50))"
      ],
      "execution_count": 107,
      "outputs": [
        {
          "output_type": "stream",
          "text": [
            "the random number with difference 50 is 3000\n"
          ],
          "name": "stdout"
        }
      ]
    },
    {
      "cell_type": "markdown",
      "metadata": {
        "id": "Fe5UgY9Ylyee",
        "colab_type": "text"
      },
      "source": [
        " Write a python program using math module to find"
      ]
    },
    {
      "cell_type": "code",
      "metadata": {
        "id": "R3DHIhNVmDne",
        "colab_type": "code",
        "colab": {
          "base_uri": "https://localhost:8080/",
          "height": 34
        },
        "outputId": "7b1e0593-7053-4907-a319-5c280d0cedd9"
      },
      "source": [
        "import math\n",
        "math.sin(60)"
      ],
      "execution_count": 99,
      "outputs": [
        {
          "output_type": "execute_result",
          "data": {
            "text/plain": [
              "-0.3048106211022167"
            ]
          },
          "metadata": {
            "tags": []
          },
          "execution_count": 99
        }
      ]
    },
    {
      "cell_type": "code",
      "metadata": {
        "id": "f_24JalxmSuM",
        "colab_type": "code",
        "colab": {
          "base_uri": "https://localhost:8080/",
          "height": 34
        },
        "outputId": "77cfab9c-7871-4a10-a617-72fe697e43b1"
      },
      "source": [
        "math.cos(pi)"
      ],
      "execution_count": 98,
      "outputs": [
        {
          "output_type": "execute_result",
          "data": {
            "text/plain": [
              "-0.9999987317275395"
            ]
          },
          "metadata": {
            "tags": []
          },
          "execution_count": 98
        }
      ]
    },
    {
      "cell_type": "code",
      "metadata": {
        "id": "wfXzXga8mYR_",
        "colab_type": "code",
        "colab": {
          "base_uri": "https://localhost:8080/",
          "height": 34
        },
        "outputId": "3961be35-bb0f-42cb-a293-4666ab3ed22b"
      },
      "source": [
        "math. cos (90)"
      ],
      "execution_count": 100,
      "outputs": [
        {
          "output_type": "execute_result",
          "data": {
            "text/plain": [
              "-0.4480736161291701"
            ]
          },
          "metadata": {
            "tags": []
          },
          "execution_count": 100
        }
      ]
    },
    {
      "cell_type": "code",
      "metadata": {
        "id": "CX2N2NFlmdT-",
        "colab_type": "code",
        "colab": {
          "base_uri": "https://localhost:8080/",
          "height": 34
        },
        "outputId": "b0a9cea0-e73a-47e7-d25b-344034612fb1"
      },
      "source": [
        "math.degrees(sin(0.8660254037844386))"
      ],
      "execution_count": 105,
      "outputs": [
        {
          "output_type": "execute_result",
          "data": {
            "text/plain": [
              "43.64563193711739"
            ]
          },
          "metadata": {
            "tags": []
          },
          "execution_count": 105
        }
      ]
    },
    {
      "cell_type": "code",
      "metadata": {
        "id": "dmkucmaNnbwt",
        "colab_type": "code",
        "colab": {
          "base_uri": "https://localhost:8080/",
          "height": 34
        },
        "outputId": "744f08b6-8916-4d93-f435-921a54fbc366"
      },
      "source": [
        "math.sqrt(400)"
      ],
      "execution_count": 111,
      "outputs": [
        {
          "output_type": "execute_result",
          "data": {
            "text/plain": [
              "20.0"
            ]
          },
          "metadata": {
            "tags": []
          },
          "execution_count": 111
        }
      ]
    },
    {
      "cell_type": "code",
      "metadata": {
        "id": "LMUOsnXypgHM",
        "colab_type": "code",
        "colab": {
          "base_uri": "https://localhost:8080/",
          "height": 34
        },
        "outputId": "adbea862-2b9c-47cd-e5e1-8c08f3398983"
      },
      "source": [
        "math.log2(1024)"
      ],
      "execution_count": 112,
      "outputs": [
        {
          "output_type": "execute_result",
          "data": {
            "text/plain": [
              "10.0"
            ]
          },
          "metadata": {
            "tags": []
          },
          "execution_count": 112
        }
      ]
    },
    {
      "cell_type": "code",
      "metadata": {
        "id": "hi3fWbknpuMS",
        "colab_type": "code",
        "colab": {
          "base_uri": "https://localhost:8080/",
          "height": 34
        },
        "outputId": "528672a1-290b-4384-df93-73cf9c6b866c"
      },
      "source": [
        "math.log10(1024)"
      ],
      "execution_count": 113,
      "outputs": [
        {
          "output_type": "execute_result",
          "data": {
            "text/plain": [
              "3.010299956639812"
            ]
          },
          "metadata": {
            "tags": []
          },
          "execution_count": 113
        }
      ]
    },
    {
      "cell_type": "code",
      "metadata": {
        "id": "aCFHuQiqp2G7",
        "colab_type": "code",
        "colab": {
          "base_uri": "https://localhost:8080/",
          "height": 34
        },
        "outputId": "e51895c2-470f-42c2-ce6d-e4b3fae6996d"
      },
      "source": [
        "math.floor(23.56)"
      ],
      "execution_count": 116,
      "outputs": [
        {
          "output_type": "execute_result",
          "data": {
            "text/plain": [
              "23"
            ]
          },
          "metadata": {
            "tags": []
          },
          "execution_count": 116
        }
      ]
    },
    {
      "cell_type": "code",
      "metadata": {
        "id": "tzl_aUP1qCCw",
        "colab_type": "code",
        "colab": {
          "base_uri": "https://localhost:8080/",
          "height": 34
        },
        "outputId": "d4ce3ab0-a70d-4dfb-9627-cec8665ada47"
      },
      "source": [
        "math.ceil(23.56)"
      ],
      "execution_count": 117,
      "outputs": [
        {
          "output_type": "execute_result",
          "data": {
            "text/plain": [
              "24"
            ]
          },
          "metadata": {
            "tags": []
          },
          "execution_count": 117
        }
      ]
    },
    {
      "cell_type": "code",
      "metadata": {
        "id": "JENwL7dIqU3l",
        "colab_type": "code",
        "colab": {
          "base_uri": "https://localhost:8080/",
          "height": 34
        },
        "outputId": "fe74f37e-1d84-4245-e5e0-c84f977bc90c"
      },
      "source": [
        "math.fabs(5^8)"
      ],
      "execution_count": 122,
      "outputs": [
        {
          "output_type": "execute_result",
          "data": {
            "text/plain": [
              "13.0"
            ]
          },
          "metadata": {
            "tags": []
          },
          "execution_count": 122
        }
      ]
    }
  ]
}